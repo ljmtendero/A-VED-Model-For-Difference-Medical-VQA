{
 "cells": [
  {
   "cell_type": "code",
   "execution_count": 7,
   "metadata": {},
   "outputs": [],
   "source": [
    "import pandas as pd\n",
    "import os\n",
    "import glob"
   ]
  },
  {
   "cell_type": "code",
   "execution_count": 8,
   "metadata": {},
   "outputs": [],
   "source": [
    "all_metadata_path = \"mimic_all.csv\"\n",
    "all_metadata = pd.read_csv(all_metadata_path)"
   ]
  },
  {
   "cell_type": "code",
   "execution_count": 9,
   "metadata": {},
   "outputs": [],
   "source": [
    "def generate_image_paths(row, index, total_rows):\n",
    "    base_path = \"/home/DATA/mimic-cxr/2.0.0/files_jpg_512/files\"\n",
    "    subject_id = str(row[\"subject_id\"])\n",
    "    study_id = str(row[\"study_id\"])\n",
    "    ref_id = str(row.get(\"ref_id\", \"\"))\n",
    "\n",
    "    def get_correct_image(subject_id, study_id):\n",
    "        matching_row = all_metadata[\n",
    "            (all_metadata[\"subject_id\"] == int(subject_id)) &\n",
    "            (all_metadata[\"study_id\"] == int(study_id))\n",
    "        ]\n",
    "        if not matching_row.empty:\n",
    "            return matching_row.iloc[0][\"dicom_id\"]\n",
    "        return None\n",
    "    \n",
    "    correct_image = get_correct_image(subject_id, study_id)\n",
    "    if correct_image:\n",
    "        image_path = os.path.relpath(\n",
    "            os.path.join(base_path, f\"p{subject_id[:2]}/p{subject_id}/s{study_id}/{correct_image}.jpg\"), base_path\n",
    "        )\n",
    "        if os.path.exists(os.path.join(base_path, image_path)):\n",
    "            return image_path\n",
    "    return \"\""
   ]
  },
  {
   "cell_type": "code",
   "execution_count": 10,
   "metadata": {},
   "outputs": [
    {
     "name": "stderr",
     "output_type": "stream",
     "text": [
      "  0%|          | 0/227827 [00:00<?, ?it/s]"
     ]
    },
    {
     "name": "stderr",
     "output_type": "stream",
     "text": [
      "100%|██████████| 227827/227827 [01:48<00:00, 2104.69it/s]\n"
     ]
    }
   ],
   "source": [
    "from tqdm import tqdm\n",
    "\n",
    "# Now i wanto to generate the image paths for all the rows\n",
    "all_metadata[\"image_path\"] = \"\"\n",
    "for index, row in tqdm(all_metadata.iterrows(), total=len(all_metadata)):\n",
    "    all_metadata.at[index, \"image_path\"] = generate_image_paths(row, index, len(all_metadata))\n",
    "\n",
    "all_metadata.to_csv(\"mimic_all_with_image_paths.csv\", index=False)"
   ]
  }
 ],
 "metadata": {
  "kernelspec": {
   "display_name": "finetune",
   "language": "python",
   "name": "python3"
  },
  "language_info": {
   "codemirror_mode": {
    "name": "ipython",
    "version": 3
   },
   "file_extension": ".py",
   "mimetype": "text/x-python",
   "name": "python",
   "nbconvert_exporter": "python",
   "pygments_lexer": "ipython3",
   "version": "3.10.16"
  }
 },
 "nbformat": 4,
 "nbformat_minor": 2
}
