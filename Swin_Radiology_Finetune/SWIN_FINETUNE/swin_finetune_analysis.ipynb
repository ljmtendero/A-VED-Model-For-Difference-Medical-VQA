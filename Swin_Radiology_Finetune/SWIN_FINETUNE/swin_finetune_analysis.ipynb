{
 "cells": [
  {
   "cell_type": "code",
   "execution_count": 1,
   "metadata": {},
   "outputs": [
    {
     "name": "stderr",
     "output_type": "stream",
     "text": [
      "/home/mobrrei/miniconda3/envs/finetune/lib/python3.10/site-packages/tqdm/auto.py:21: TqdmWarning: IProgress not found. Please update jupyter and ipywidgets. See https://ipywidgets.readthedocs.io/en/stable/user_install.html\n",
      "  from .autonotebook import tqdm as notebook_tqdm\n",
      "/home/mobrrei/miniconda3/envs/finetune/lib/python3.10/site-packages/albumentations/__init__.py:24: UserWarning: A new version of Albumentations is available: 1.4.24 (you have 1.4.23). Upgrade using: pip install -U albumentations. To disable automatic update checks, set the environment variable NO_ALBUMENTATIONS_UPDATE to 1.\n",
      "  check_for_updates()\n"
     ]
    }
   ],
   "source": [
    "import torch\n",
    "import pytorch_lightning as pl\n",
    "from torch.utils.data import DataLoader, Dataset\n",
    "from torch import nn\n",
    "from torch.optim import AdamW\n",
    "from torchvision import transforms\n",
    "from transformers import AutoImageProcessor, SwinModel\n",
    "import pandas as pd\n",
    "import pathlib\n",
    "from PIL import Image\n",
    "import numpy as np\n",
    "import albumentations as A\n",
    "import cv2\n",
    "import multiprocessing\n",
    "from pytorch_lightning.callbacks import ModelCheckpoint, LearningRateMonitor\n",
    "from paths import DICT_MIMICALL_OBS_TO_INT, IMAGES_MIMIC_PATH, SWINB_IMAGENET22K_WEIGHTS, DICT_MIMIC_OBSKEY_TO_INT, DICT_MIMICALL_INT_TO_OBS\n"
   ]
  },
  {
   "cell_type": "code",
   "execution_count": 2,
   "metadata": {},
   "outputs": [
    {
     "name": "stderr",
     "output_type": "stream",
     "text": [
      "/tmp/ipykernel_245976/556674348.py:31: FutureWarning: You are using `torch.load` with `weights_only=False` (the current default value), which uses the default pickle module implicitly. It is possible to construct malicious pickle data which will execute arbitrary code during unpickling (See https://github.com/pytorch/pytorch/blob/main/SECURITY.md#untrusted-models for more details). In a future release, the default value for `weights_only` will be flipped to `True`. This limits the functions that could be executed during unpickling. Arbitrary objects will no longer be allowed to be loaded via this mode unless they are explicitly allowlisted by the user via `torch.serialization.add_safe_globals`. We recommend you start setting `weights_only=True` for any use case where you don't have full control of the loaded file. Please open an issue on GitHub for any issues related to this experimental feature.\n",
      "  model.load_state_dict(torch.load(checkpoint_path)[\"state_dict\"])\n"
     ]
    },
    {
     "data": {
      "text/plain": [
       "<All keys matched successfully>"
      ]
     },
     "execution_count": 2,
     "metadata": {},
     "output_type": "execute_result"
    }
   ],
   "source": [
    "class SwinLightningModel(pl.LightningModule):\n",
    "    def __init__(self, swin_weights, num_classes=14, lr=1e-4, weight_decay=0.05, epochs=30):\n",
    "        super().__init__()\n",
    "        self.swin = SwinModel.from_pretrained(swin_weights)\n",
    "        self.processor = AutoImageProcessor.from_pretrained(swin_weights)\n",
    "        self.classifier = nn.Linear(self.swin.config.hidden_size, num_classes * 2)\n",
    "        self.criterion = nn.CrossEntropyLoss(label_smoothing=0.1)\n",
    "        self.lr = lr\n",
    "        self.weight_decay = weight_decay\n",
    "        self.epochs = epochs\n",
    "        self.test_step_outputs = []\n",
    "\n",
    "    def forward(self, x):\n",
    "        x = self.swin(x).pooler_output\n",
    "        x = self.classifier(x)\n",
    "        return x.view(-1, 14, 2)\n",
    "\n",
    "    def test_step(self, batch, batch_idx):\n",
    "        x, y = batch\n",
    "        y_hat = self(x)\n",
    "        loss = self.criterion(y_hat.view(-1, 2), y.view(-1))\n",
    "        preds = torch.argmax(y_hat, dim=2)\n",
    "        self.test_step_outputs.append({\"loss\": loss\n",
    "                                        , \"preds\": preds\n",
    "                                        , \"y\": y})\n",
    "        return {\"loss\": loss, \"preds\": preds, \"y\": y}\n",
    "    \n",
    "model = SwinLightningModel(SWINB_IMAGENET22K_WEIGHTS)\n",
    "model.eval()\n",
    "checkpoint_path = \"lightning_logs/version_3/checkpoints/swin_best.ckpt\"\n",
    "model.load_state_dict(torch.load(checkpoint_path)[\"state_dict\"])"
   ]
  },
  {
   "cell_type": "code",
   "execution_count": 3,
   "metadata": {},
   "outputs": [],
   "source": [
    "#Save the swin \n",
    "\n",
    "model.swin.save_pretrained(\"swin_mimic\")"
   ]
  },
  {
   "cell_type": "code",
   "execution_count": 20,
   "metadata": {},
   "outputs": [],
   "source": [
    "class MIMICDataset(Dataset):\n",
    "    def __init__(self, transform, processor, partition, dataset_path, img_root_dir, label_map, labels):\n",
    "        self.transform = transform\n",
    "        self.processor = processor\n",
    "        self.partition = partition\n",
    "        self.dataset_df = pd.read_csv(dataset_path)\n",
    "        if partition == \"train\":\n",
    "            self.dataset_df = self.dataset_df[self.dataset_df[\"split\"] == \"train\"]\n",
    "        elif partition == \"val\":\n",
    "            self.dataset_df = self.dataset_df[self.dataset_df[\"split\"] == \"validate\"]\n",
    "        elif partition == \"test\":\n",
    "            self.dataset_df = self.dataset_df[self.dataset_df[\"split\"] == \"test\"]\n",
    "        else:\n",
    "            raise ValueError(\"Unknown partition type.\")\n",
    "        \n",
    "        self.img_root_dir = pathlib.Path(img_root_dir)\n",
    "        self.label_map = label_map\n",
    "        self.possible_labels = list(labels.keys())\n",
    "\n",
    "    def __len__(self):\n",
    "        return len(self.dataset_df)\n",
    "\n",
    "    def __getitem__(self, idx):\n",
    "        img_name = self.img_root_dir / self.dataset_df.iloc[idx].image_path.split(\",\")[0]\n",
    "        img = Image.open(img_name).convert(\"RGB\")\n",
    "\n",
    "        if isinstance(self.transform, transforms.Compose):\n",
    "            img = self.transform(img)\n",
    "        elif isinstance(self.transform, A.core.composition.Compose):\n",
    "            img = self.transform(image=np.array(img))[\"image\"]\n",
    "        else:\n",
    "            raise ValueError(\"Unknown transformation type.\")\n",
    "\n",
    "        img = self.processor(img, return_tensors=\"pt\", size=384).pixel_values.squeeze()\n",
    "        row = self.dataset_df.iloc[idx]\n",
    "        labels = torch.zeros(14)\n",
    "        for i in range(len(self.possible_labels)):\n",
    "            inte_label = row[self.possible_labels[i]]\n",
    "            if inte_label != inte_label:\n",
    "                inte_label = -2\n",
    "            labels[i] = self.label_map[inte_label]\n",
    "        labels = labels.long()\n",
    "        return img, labels\n"
   ]
  },
  {
   "cell_type": "code",
   "execution_count": 21,
   "metadata": {},
   "outputs": [],
   "source": [
    "BATCH_SIZE = 24\n",
    "num_workers = multiprocessing.cpu_count() - 1"
   ]
  },
  {
   "cell_type": "code",
   "execution_count": 22,
   "metadata": {},
   "outputs": [],
   "source": [
    "def val_test_transforms():\n",
    "    return transforms.Compose([\n",
    "        transforms.Resize(416),\n",
    "        transforms.CenterCrop(384)\n",
    "    ])"
   ]
  },
  {
   "cell_type": "code",
   "execution_count": 23,
   "metadata": {},
   "outputs": [],
   "source": [
    "test_dataset = MIMICDataset(transform=val_test_transforms(),\n",
    "                            processor=model.processor,\n",
    "                            partition=\"test\",\n",
    "                            dataset_path=\"mimic_all_with_image_paths.csv\",\n",
    "                            img_root_dir=IMAGES_MIMIC_PATH,\n",
    "                            label_map=DICT_MIMIC_OBSKEY_TO_INT,\n",
    "                            labels=DICT_MIMICALL_OBS_TO_INT)"
   ]
  },
  {
   "cell_type": "code",
   "execution_count": 24,
   "metadata": {},
   "outputs": [],
   "source": [
    "test_loader = DataLoader(test_dataset, \n",
    "                         batch_size=BATCH_SIZE, \n",
    "                         num_workers=num_workers, \n",
    "                         shuffle=False)"
   ]
  },
  {
   "cell_type": "code",
   "execution_count": 25,
   "metadata": {},
   "outputs": [
    {
     "name": "stderr",
     "output_type": "stream",
     "text": [
      "  0%|          | 0/137 [00:00<?, ?it/s]"
     ]
    },
    {
     "name": "stderr",
     "output_type": "stream",
     "text": [
      "100%|██████████| 137/137 [00:21<00:00,  6.34it/s]\n"
     ]
    }
   ],
   "source": [
    "from tqdm import tqdm\n",
    "\n",
    "model.to(\"cuda\")\n",
    "model.eval()\n",
    "\n",
    "model.test_step_outputs = []\n",
    "with torch.no_grad():\n",
    "    for batch in tqdm(test_loader):\n",
    "        batch = [b.to(\"cuda\") for b in batch]\n",
    "        model.test_step(batch, 0)\n",
    "\n",
    "preds = torch.cat([o[\"preds\"] for o in model.test_step_outputs], dim=0)\n",
    "y = torch.cat([o[\"y\"] for o in model.test_step_outputs], dim=0)"
   ]
  },
  {
   "cell_type": "code",
   "execution_count": 26,
   "metadata": {},
   "outputs": [
    {
     "name": "stdout",
     "output_type": "stream",
     "text": [
      "Accuracy for Atelectasis: 73.14163208007812\n",
      "Accuracy for Cardiomegaly: 73.41694641113281\n",
      "Accuracy for Consolidation: 90.27226257324219\n",
      "Accuracy for Edema: 77.4242935180664\n",
      "Accuracy for Enlarged Cardiomediastinum: 89.14041137695312\n",
      "Accuracy for Fracture: 97.15509796142578\n",
      "Accuracy for Lung Lesion: 95.1361312866211\n",
      "Accuracy for Lung Opacity: 69.53197479248047\n",
      "Accuracy for No Finding: 84.613037109375\n",
      "Accuracy for Pleural Effusion: 80.36096954345703\n",
      "Accuracy for Pleural Other: 97.58336639404297\n",
      "Accuracy for Pneumonia: 80.20801544189453\n",
      "Accuracy for Pneumothorax: 96.11502075195312\n",
      "Accuracy for Support Devices: 82.89997863769531\n",
      "Overall accuracy: 84.78565270560128\n"
     ]
    }
   ],
   "source": [
    "# Let's calculate the accuracy for each labels and the overall accuracy\n",
    "accs = []\n",
    "for i in range(14):\n",
    "    acc = (preds[:, i] == y[:, i]).float().mean() * 100\n",
    "    accs.append(acc.item())\n",
    "    print(f\"Accuracy for {DICT_MIMICALL_INT_TO_OBS[i]}: {acc.item()}\")\n",
    "print(f\"Overall accuracy: {np.mean(accs)}\")\n",
    "    "
   ]
  },
  {
   "cell_type": "code",
   "execution_count": 27,
   "metadata": {},
   "outputs": [
    {
     "name": "stdout",
     "output_type": "stream",
     "text": [
      "F1 score for Atelectasis: 0.5620230626776975\n",
      "F1 score for Cardiomegaly: 0.631748395974429\n",
      "F1 score for Consolidation: 0.4775540768735928\n",
      "F1 score for Edema: 0.6801570020384917\n",
      "F1 score for Enlarged Cardiomediastinum: 0.4712922529516416\n",
      "F1 score for Fracture: 0.49278510473235065\n",
      "F1 score for Lung Lesion: 0.5279722470700953\n",
      "F1 score for Lung Opacity: 0.5868502637317123\n",
      "F1 score for No Finding: 0.6899850885027247\n",
      "F1 score for Pleural Effusion: 0.7873864648516171\n",
      "F1 score for Pleural Other: 0.4938845022449296\n",
      "F1 score for Pneumonia: 0.5638461593980993\n",
      "F1 score for Pneumothorax: 0.670887169718287\n",
      "F1 score for Support Devices: 0.8142908289982044\n",
      "Overall F1 score: 0.6036187585545624\n"
     ]
    }
   ],
   "source": [
    "#Instead of using the accuracy, we can also calculate the F1 score\n",
    "from sklearn.metrics import f1_score\n",
    "\n",
    "f1_scores = []\n",
    "for i in range(14):\n",
    "    f1 = f1_score(y[:, i].cpu(), preds[:, i].cpu(), average=\"macro\")\n",
    "    f1_scores.append(f1)\n",
    "    print(f\"F1 score for {DICT_MIMICALL_INT_TO_OBS[i]}: {f1}\")\n",
    "print(f\"Overall F1 score: {np.mean(f1_scores)}\")"
   ]
  },
  {
   "cell_type": "code",
   "execution_count": 28,
   "metadata": {},
   "outputs": [],
   "source": [
    "# Save accuracy and F1 scores to a file\n",
    "with open(\"accuracy_f1_scores_3.txt\", \"w\") as f:\n",
    "    f.write(f\"Overall accuracy: {np.mean(accs)}\\n\")\n",
    "    f.write(f\"Overall F1 score: {np.mean(f1_scores)}\\n\")\n",
    "    for i in range(14):\n",
    "        f.write(f\"Accuracy for {DICT_MIMICALL_INT_TO_OBS[i]}: {accs[i]}\\n\")\n",
    "        f.write(f\"F1 score for {DICT_MIMICALL_INT_TO_OBS[i]}: {f1_scores[i]}\\n\")\n",
    "\n",
    "# Save the predictions wtih the ground truth labels to a file\n",
    "with open(\"predictions_3.txt\", \"w\") as f:\n",
    "    for i in range(len(preds)):\n",
    "        f.write(f\"Prediction: {preds[i].cpu().numpy()} Ground truth: {y[i].cpu().numpy()}\\n\")"
   ]
  },
  {
   "cell_type": "code",
   "execution_count": null,
   "metadata": {},
   "outputs": [],
   "source": []
  }
 ],
 "metadata": {
  "kernelspec": {
   "display_name": "finetune",
   "language": "python",
   "name": "python3"
  },
  "language_info": {
   "codemirror_mode": {
    "name": "ipython",
    "version": 3
   },
   "file_extension": ".py",
   "mimetype": "text/x-python",
   "name": "python",
   "nbconvert_exporter": "python",
   "pygments_lexer": "ipython3",
   "version": "3.10.16"
  }
 },
 "nbformat": 4,
 "nbformat_minor": 2
}
